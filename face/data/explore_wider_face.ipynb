{
 "cells": [
  {
   "cell_type": "code",
   "execution_count": 3,
   "metadata": {},
   "outputs": [],
   "source": [
    "import numpy as np"
   ]
  },
  {
   "cell_type": "markdown",
   "metadata": {},
   "source": [
    "### Train data"
   ]
  },
  {
   "cell_type": "code",
   "execution_count": 8,
   "metadata": {},
   "outputs": [],
   "source": [
    "content = [l.strip().split() for l in open(r'D:\\GIT\\deep-learning\\tensorflow-yolov3\\face\\data\\train_widerface.txt')]"
   ]
  },
  {
   "cell_type": "code",
   "execution_count": 9,
   "metadata": {},
   "outputs": [],
   "source": [
    "agg_num_boxes = []\n",
    "for l in content:\n",
    "    boxes = l[1:]\n",
    "    num_boxes = len(boxes) / 5\n",
    "    agg_num_boxes += [num_boxes]"
   ]
  },
  {
   "cell_type": "code",
   "execution_count": 10,
   "metadata": {},
   "outputs": [
    {
     "data": {
      "text/plain": [
       "(1.0, 18.0, 1.4108352144469527, 0.9780064384313714)"
      ]
     },
     "execution_count": 10,
     "metadata": {},
     "output_type": "execute_result"
    }
   ],
   "source": [
    "np.min(agg_num_boxes), np.max(agg_num_boxes), np.mean(agg_num_boxes), np.std(agg_num_boxes), "
   ]
  },
  {
   "cell_type": "markdown",
   "metadata": {},
   "source": [
    "### Test data"
   ]
  },
  {
   "cell_type": "code",
   "execution_count": 11,
   "metadata": {},
   "outputs": [],
   "source": [
    "content = [l.strip().split() for l in open(r'D:\\GIT\\deep-learning\\tensorflow-yolov3\\face\\data\\test_widerface.txt')]"
   ]
  },
  {
   "cell_type": "code",
   "execution_count": 12,
   "metadata": {},
   "outputs": [],
   "source": [
    "agg_num_boxes = []\n",
    "for l in content:\n",
    "    boxes = l[1:]\n",
    "    num_boxes = len(boxes) / 5\n",
    "    agg_num_boxes += [num_boxes]"
   ]
  },
  {
   "cell_type": "code",
   "execution_count": 13,
   "metadata": {},
   "outputs": [
    {
     "data": {
      "text/plain": [
       "(1.0, 6.0, 1.1803588290840414, 0.5380265619331076)"
      ]
     },
     "execution_count": 13,
     "metadata": {},
     "output_type": "execute_result"
    }
   ],
   "source": [
    "np.min(agg_num_boxes), np.max(agg_num_boxes), np.mean(agg_num_boxes), np.std(agg_num_boxes), "
   ]
  },
  {
   "cell_type": "code",
   "execution_count": null,
   "metadata": {},
   "outputs": [],
   "source": []
  }
 ],
 "metadata": {
  "kernelspec": {
   "display_name": "Python 3",
   "language": "python",
   "name": "python3"
  },
  "language_info": {
   "codemirror_mode": {
    "name": "ipython",
    "version": 3
   },
   "file_extension": ".py",
   "mimetype": "text/x-python",
   "name": "python",
   "nbconvert_exporter": "python",
   "pygments_lexer": "ipython3",
   "version": "3.7.0"
  }
 },
 "nbformat": 4,
 "nbformat_minor": 2
}
